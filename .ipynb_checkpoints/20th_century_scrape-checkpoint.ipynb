{
 "cells": [
  {
   "cell_type": "code",
   "execution_count": 2,
   "id": "0f9cd145-5e91-40fe-9ab6-15449087559c",
   "metadata": {},
   "outputs": [
    {
     "name": "stdout",
     "output_type": "stream",
     "text": [
      "Scrape complete! The file '20th_century_text.txt' has been saved.\n"
     ]
    },
    {
     "name": "stderr",
     "output_type": "stream",
     "text": [
      "C:\\Users\\maham\\AppData\\Local\\Temp\\ipykernel_70272\\4092703592.py:12: MarkupResemblesLocatorWarning: The input looks more like a filename than markup. You may want to open this file and pass the filehandle into Beautiful Soup.\n",
      "  soup = BeautifulSoup(page.text, 'html.parser')\n"
     ]
    }
   ],
   "source": [
    "# Import required libraries\n",
    "from bs4 import BeautifulSoup\n",
    "import requests\n",
    "\n",
    "# Step 1: Define the URL\n",
    "url = \"https://en.wikipedia.org/wiki/Timeline_of_the_20th_century\"\n",
    "\n",
    "# Step 2: Get the page content\n",
    "page = requests.get(url)\n",
    "\n",
    "# Step 3: Parse the HTML content\n",
    "soup = BeautifulSoup(page.text, 'html.parser')\n",
    "\n",
    "# Step 4: Extract all text content\n",
    "text = soup.get_text()\n",
    "\n",
    "# Step 5: Encode and save the text to a file\n",
    "text = text.encode('utf-8')\n",
    "with open('20th_century_text.txt', 'wb') as f:\n",
    "    f.write(text)\n",
    "\n",
    "print(\"Scrape complete! The file '20th_century_text.txt' has been saved.\")\n"
   ]
  },
  {
   "cell_type": "code",
   "execution_count": null,
   "id": "30d3ef90-5178-4cad-89fa-253fb8ad5c66",
   "metadata": {},
   "outputs": [],
   "source": []
  },
  {
   "cell_type": "code",
   "execution_count": 3,
   "id": "1f000568-95ba-4661-938f-86ae330a11eb",
   "metadata": {},
   "outputs": [
    {
     "name": "stdout",
     "output_type": "stream",
     "text": [
      "✅ Scrape complete! The file '20th_century_text.txt' has been saved successfully.\n"
     ]
    }
   ],
   "source": [
    "from bs4 import BeautifulSoup\n",
    "import requests\n",
    "\n",
    "# Step 1: Define URL and User-Agent\n",
    "url = \"https://en.wikipedia.org/wiki/Timeline_of_the_20th_century\"\n",
    "headers = {'User-Agent': 'Mozilla/5.0 (compatible; 20th_Century_Project/1.0; +https://www.example.com)'}\n",
    "\n",
    "# Step 2: Get the page content\n",
    "page = requests.get(url, headers=headers)\n",
    "\n",
    "# Step 3: Parse the HTML content\n",
    "soup = BeautifulSoup(page.content, 'html.parser')\n",
    "\n",
    "# Step 4: Extract all text content\n",
    "text = soup.get_text()\n",
    "\n",
    "# Step 5: Encode and save the text to a file\n",
    "text = text.encode('utf-8')\n",
    "with open('20th_century_text.txt', 'wb') as f:\n",
    "    f.write(text)\n",
    "\n",
    "print(\"✅ Scrape complete! The file '20th_century_text.txt' has been saved successfully.\")\n"
   ]
  },
  {
   "cell_type": "code",
   "execution_count": null,
   "id": "365db7e0-e286-4048-a1f2-1fec8a432931",
   "metadata": {},
   "outputs": [],
   "source": []
  }
 ],
 "metadata": {
  "kernelspec": {
   "display_name": "Python (20th_century)",
   "language": "python",
   "name": "20th_century"
  },
  "language_info": {
   "codemirror_mode": {
    "name": "ipython",
    "version": 3
   },
   "file_extension": ".py",
   "mimetype": "text/x-python",
   "name": "python",
   "nbconvert_exporter": "python",
   "pygments_lexer": "ipython3",
   "version": "3.11.13"
  }
 },
 "nbformat": 4,
 "nbformat_minor": 5
}
