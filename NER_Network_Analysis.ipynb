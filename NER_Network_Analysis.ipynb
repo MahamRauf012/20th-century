{
 "cells": [
  {
   "cell_type": "markdown",
   "id": "1181a153-c258-4299-a14a-3e0ab18bd9e6",
   "metadata": {},
   "source": [
    "# Named Entity Recognition Analysis"
   ]
  },
  {
   "cell_type": "markdown",
   "id": "38447998-75a9-45d9-9d04-a4b78eef6911",
   "metadata": {},
   "source": [
    "# Importing Libraries"
   ]
  },
  {
   "cell_type": "code",
   "execution_count": 1,
   "id": "915b8611-37ec-4ef8-b46b-f8e12c89c797",
   "metadata": {},
   "outputs": [
    {
     "ename": "ModuleNotFoundError",
     "evalue": "No module named 'spacy'",
     "output_type": "error",
     "traceback": [
      "\u001b[1;31m---------------------------------------------------------------------------\u001b[0m",
      "\u001b[1;31mModuleNotFoundError\u001b[0m                       Traceback (most recent call last)",
      "Cell \u001b[1;32mIn[1], line 4\u001b[0m\n\u001b[0;32m      2\u001b[0m \u001b[38;5;28;01mimport\u001b[39;00m \u001b[38;5;21;01mpandas\u001b[39;00m \u001b[38;5;28;01mas\u001b[39;00m \u001b[38;5;21;01mpd\u001b[39;00m\n\u001b[0;32m      3\u001b[0m \u001b[38;5;28;01mimport\u001b[39;00m \u001b[38;5;21;01mnumpy\u001b[39;00m \u001b[38;5;28;01mas\u001b[39;00m \u001b[38;5;21;01mnp\u001b[39;00m\n\u001b[1;32m----> 4\u001b[0m \u001b[38;5;28;01mimport\u001b[39;00m \u001b[38;5;21;01mspacy\u001b[39;00m\n\u001b[0;32m      5\u001b[0m \u001b[38;5;28;01mfrom\u001b[39;00m \u001b[38;5;21;01mspacy\u001b[39;00m \u001b[38;5;28;01mimport\u001b[39;00m displacy\n\u001b[0;32m      6\u001b[0m \u001b[38;5;28;01mimport\u001b[39;00m \u001b[38;5;21;01mnetworkx\u001b[39;00m \u001b[38;5;28;01mas\u001b[39;00m \u001b[38;5;21;01mnx\u001b[39;00m\n",
      "\u001b[1;31mModuleNotFoundError\u001b[0m: No module named 'spacy'"
     ]
    }
   ],
   "source": [
    "# Import libraries\n",
    "import pandas as pd\n",
    "import numpy as np\n",
    "import spacy\n",
    "from spacy import displacy\n",
    "import networkx as nx\n",
    "import os\n",
    "import matplotlib.pyplot as plt\n",
    "import scipy\n",
    "import re\n",
    "from collections import Counter\n",
    "from fuzzywuzzy.process import extractOne"
   ]
  },
  {
   "cell_type": "code",
   "execution_count": null,
   "id": "3c85c266-f3e5-415a-8f63-5bfd8c253370",
   "metadata": {},
   "outputs": [],
   "source": [
    "!pip install fuzzywuzzy"
   ]
  },
  {
   "cell_type": "code",
   "execution_count": null,
   "id": "ce35937a-b718-409d-b25a-47fac7d1bbb5",
   "metadata": {},
   "outputs": [],
   "source": [
    "!pip install python-Levenshtein"
   ]
  },
  {
   "cell_type": "code",
   "execution_count": null,
   "id": "3fb2a080-6a86-4f54-9ab4-03a6663339ee",
   "metadata": {},
   "outputs": [],
   "source": [
    "# Download English module\n",
    "\n",
    "!python -m spacy download en_core_web_sm"
   ]
  },
  {
   "cell_type": "code",
   "execution_count": null,
   "id": "ae89574e-4ff4-46b2-8ad9-30960ece96b8",
   "metadata": {},
   "outputs": [],
   "source": [
    "# Load spaCy's large English model\n",
    "nlp = spacy.load(\"en_core_web_sm\")"
   ]
  },
  {
   "cell_type": "markdown",
   "id": "07190587-a108-4321-a985-787a35f7d3fa",
   "metadata": {},
   "source": [
    "# Load the Twentieth-Century Text Data"
   ]
  },
  {
   "cell_type": "code",
   "execution_count": null,
   "id": "81d00345-59af-481b-a0b0-7b1b118768fc",
   "metadata": {},
   "outputs": [],
   "source": [
    "# Load the text data\n",
    "file_path = \"20th_century_events_cleaned.txt\"\n",
    "with open(file_path, \"r\", encoding=\"utf-8\") as file:\n",
    "    text_data = file.read()"
   ]
  },
  {
   "cell_type": "code",
   "execution_count": null,
   "id": "971c6b1c-28c1-4cfe-a921-757733957b74",
   "metadata": {},
   "outputs": [],
   "source": [
    "# Print a preview\n",
    "print(text_data[:1000])  # First 1000 characters\n"
   ]
  },
  {
   "cell_type": "markdown",
   "id": "ed1fce42-9885-47d9-ae29-0bad31cf4cf4",
   "metadata": {},
   "source": [
    "# Text Wrangling and Cleaning"
   ]
  },
  {
   "cell_type": "code",
   "execution_count": null,
   "id": "6dea676a-b047-49d6-b110-7bff15058b5a",
   "metadata": {},
   "outputs": [],
   "source": [
    "# Remove special characters, multiple spaces, and normalize country names\n",
    "def clean_text(text):\n",
    "    text = re.sub(r\"\\[.*?\\]\", \"\", text)  # Remove any [edit] or brackets content\n",
    "    text = re.sub(r\"[^a-zA-Z0-9.,;!?\\'\\\"\\s]\", \"\", text)  # Remove unwanted characters\n",
    "    text = re.sub(r\"\\s+\", \" \", text).strip()  # Remove extra spaces\n",
    "    text = text.replace(\"\\n\", \" \")  # Remove newline characters\n",
    "    \n",
    "    return text"
   ]
  },
  {
   "cell_type": "code",
   "execution_count": null,
   "id": "4c83523b-4ceb-4ad0-ba85-dce3f8d15785",
   "metadata": {},
   "outputs": [],
   "source": [
    "# Apply text cleaning\n",
    "cleaned_text = clean_text(text_data)\n"
   ]
  },
  {
   "cell_type": "code",
   "execution_count": null,
   "id": "2dce6ed3-013c-4316-9c92-ae1c0594f84d",
   "metadata": {},
   "outputs": [],
   "source": [
    "# Save cleaned text to a new file\n",
    "cleaned_file_path = \"20th_century_events_cleaned_normalized.txt\"\n",
    "with open(cleaned_file_path, \"w\", encoding=\"utf-8\") as file:\n",
    "    file.write(cleaned_text)"
   ]
  },
  {
   "cell_type": "code",
   "execution_count": null,
   "id": "6f58bcff-9e2b-4dbc-8e50-63906d7ee919",
   "metadata": {},
   "outputs": [],
   "source": [
    "# Print a preview\n",
    "print(cleaned_text[:1000])"
   ]
  },
  {
   "cell_type": "markdown",
   "id": "5d63963a-ab53-4426-b67c-a84c974c6a6f",
   "metadata": {},
   "source": [
    "#  Named Entity Recognition (NER) using spaCy"
   ]
  },
  {
   "cell_type": "code",
   "execution_count": null,
   "id": "c566b57d-ec38-4df8-93c1-410e618bb973",
   "metadata": {},
   "outputs": [],
   "source": [
    "# Apply NLP processing\n",
    "doc = nlp(cleaned_text)\n"
   ]
  },
  {
   "cell_type": "code",
   "execution_count": null,
   "id": "ad8b0781-ca63-43fc-b660-a3b973e5d6b6",
   "metadata": {},
   "outputs": [],
   "source": [
    "# Extract named entities\n",
    "entities = [(ent.text, ent.label_) for ent in doc.ents]"
   ]
  },
  {
   "cell_type": "code",
   "execution_count": null,
   "id": "1c9ff82d-63dc-4374-88cc-05739a618fc1",
   "metadata": {},
   "outputs": [],
   "source": [
    "# Display first 20 entities\n",
    "print(entities[:20])"
   ]
  },
  {
   "cell_type": "markdown",
   "id": "a6988d3d-3e62-41a8-9be1-165dbd4f21a2",
   "metadata": {},
   "source": [
    "# Extract and Standardize Country Entities\n"
   ]
  },
  {
   "cell_type": "code",
   "execution_count": null,
   "id": "d592ef65-8633-485c-ab47-8f98b2361fdb",
   "metadata": {},
   "outputs": [],
   "source": [
    "# List of countries to filter (Updated for consistency)\n",
    "countries = [\"Germany\", \"Japan\", \"United States\", \"France\", \"Italy\", \"China\", \"Russia\", \"India\", \"United Kingdom\", \"Canada\"]\n"
   ]
  },
  {
   "cell_type": "code",
   "execution_count": null,
   "id": "f28eb066-5724-45ad-872d-0cff4c0e02e7",
   "metadata": {},
   "outputs": [],
   "source": [
    "# Standardize country mentions using fuzzy matching\n",
    "def match_country(entity):\n",
    "    match = extractOne(entity, countries)\n",
    "    if match:  # Ensure a valid match before accessing its elements\n",
    "        best_match, score = match\n",
    "        return best_match if score > 80 else None  # Use a threshold of 80 for accuracy\n",
    "    return None\n",
    "\n"
   ]
  },
  {
   "cell_type": "code",
   "execution_count": null,
   "id": "91702075-cf87-4a8a-8e1d-c0b824709ce4",
   "metadata": {},
   "outputs": [],
   "source": [
    "# Filter and standardize country entities\n",
    "country_mentions = [match_country(ent.text) for ent in doc.ents if match_country(ent.text)]"
   ]
  },
  {
   "cell_type": "code",
   "execution_count": null,
   "id": "f3b76946-7e11-494c-a32b-7b4e9dc95b3a",
   "metadata": {},
   "outputs": [],
   "source": [
    "# Count occurrences\n",
    "country_counts = Counter(country_mentions)"
   ]
  },
  {
   "cell_type": "code",
   "execution_count": null,
   "id": "3c67708b-8baf-42e9-b2cd-acd7dace65ef",
   "metadata": {},
   "outputs": [],
   "source": [
    "# Convert to DataFrame\n",
    "df_countries = pd.DataFrame(country_counts.items(), columns=[\"Country\", \"Mentions\"])\n"
   ]
  },
  {
   "cell_type": "code",
   "execution_count": null,
   "id": "16d146b1-80c2-4d59-b252-4bf85355023a",
   "metadata": {},
   "outputs": [],
   "source": [
    "# Display the DataFrame\n",
    "print(df_countries.head())  # Print first 5 rows"
   ]
  },
  {
   "cell_type": "markdown",
   "id": "2e259c06-e26f-4a96-8cc8-b241fca695b9",
   "metadata": {},
   "source": [
    "# Create a Relationships DataFrame\n"
   ]
  },
  {
   "cell_type": "code",
   "execution_count": null,
   "id": "020feea6-3b5d-47d1-bbd3-9e423123c13b",
   "metadata": {},
   "outputs": [],
   "source": [
    "# Extract sentences containing country mentions\n",
    "sentences = [sent.text for sent in doc.sents if any(country in sent.text for country in countries)]"
   ]
  },
  {
   "cell_type": "code",
   "execution_count": null,
   "id": "52e3241e-b71f-4aa8-a3a5-a8963e102cc9",
   "metadata": {},
   "outputs": [],
   "source": [
    "# Create relationships DataFrame\n",
    "relationship_data = []\n",
    "for sent in sentences:\n",
    "    present_countries = [match_country(country) for country in countries if match_country(country) and country in sent]\n",
    "    present_countries = list(set(present_countries))  # Remove duplicates\n",
    "    if len(present_countries) > 1:\n",
    "        relationship_data.append({\"Sentence\": sent, \"Countries\": \", \".join(present_countries)})"
   ]
  },
  {
   "cell_type": "code",
   "execution_count": null,
   "id": "7ea008c4-179c-47c1-8679-c0164fc5904b",
   "metadata": {},
   "outputs": [],
   "source": [
    "df_relationships = pd.DataFrame(relationship_data)"
   ]
  },
  {
   "cell_type": "code",
   "execution_count": null,
   "id": "940517e3-993b-4ec0-8892-844b98725f4e",
   "metadata": {},
   "outputs": [],
   "source": [
    "# Display the DataFrame\n",
    "print(df_relationships.head())  # Print first 5 rows"
   ]
  },
  {
   "cell_type": "markdown",
   "id": "e8552237-4603-498e-a08a-4c95e6440ed4",
   "metadata": {},
   "source": [
    "#  Save and Export the DataFrame"
   ]
  },
  {
   "cell_type": "code",
   "execution_count": null,
   "id": "9d8f0b73-ff0e-49e1-9342-63dc1db423f2",
   "metadata": {},
   "outputs": [],
   "source": [
    "# Save to CSV\n",
    "df_relationships.to_csv(\"country_relationships.csv\", index=False)"
   ]
  },
  {
   "cell_type": "code",
   "execution_count": null,
   "id": "1aeccb98-9c01-444a-9cea-66d88f80e852",
   "metadata": {},
   "outputs": [],
   "source": []
  }
 ],
 "metadata": {
  "kernelspec": {
   "display_name": "Python 3 (ipykernel)",
   "language": "python",
   "name": "python3"
  },
  "language_info": {
   "codemirror_mode": {
    "name": "ipython",
    "version": 3
   },
   "file_extension": ".py",
   "mimetype": "text/x-python",
   "name": "python",
   "nbconvert_exporter": "python",
   "pygments_lexer": "ipython3",
   "version": "3.12.7"
  }
 },
 "nbformat": 4,
 "nbformat_minor": 5
}
